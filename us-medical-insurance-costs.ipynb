{
 "cells": [
  {
   "cell_type": "markdown",
   "metadata": {},
   "source": [
    "# U.S. MEDICAL INSURANCE COSTS - PROJECT"
   ]
  },
  {
   "cell_type": "markdown",
   "metadata": {},
   "source": [
    "## 0. CSV library\n",
    "We will need it to work with the provided csv file cointaining all the data"
   ]
  },
  {
   "cell_type": "code",
   "execution_count": 1,
   "metadata": {},
   "outputs": [],
   "source": [
    "import csv"
   ]
  },
  {
   "cell_type": "markdown",
   "metadata": {},
   "source": [
    "## 1. Dataset description\n",
    "- Personal information about 1338 Individuals (US citizens)\n",
    "\n",
    "#### List of personal details:\n",
    "- Age: *integer - discrete*\n",
    "- Sex: *string - nominal*\n",
    "- Bmi: *float continuous*\n",
    "- Number of children: *integer - discrete*\n",
    "- Smoker: *string - nominal*\n",
    "- US Region: *string - nominal*\n",
    "- Insurance charges: *float - continuous*\n",
    "\n",
    "## 2. Create a list for each variable\n",
    "Creating a list for each variable will allow us to manipulate and analyze each data seperately"
   ]
  },
  {
   "cell_type": "code",
   "execution_count": 2,
   "metadata": {},
   "outputs": [],
   "source": [
    "ages = []\n",
    "sexes = []\n",
    "bmis = []\n",
    "children = []\n",
    "smokers = []\n",
    "regions = []\n",
    "charges = []"
   ]
  },
  {
   "cell_type": "markdown",
   "metadata": {},
   "source": [
    "## 2. Create a function feeding each list of variable\n",
    "Create a function that fills each list of variables depending on which csv file is given as a parameter\n",
    "\n",
    "Create a class InsureesData that receives the \n",
    "1. Find out the average age of the patients in the dataset.\n",
    "2. Analyze where a majority of the individuals are from\n",
    "3. Look at the different costs between smokers vs. non-smokers.\n",
    "4. Figure out what the average age is for someone who has at least one child in this dataset.\n",
    "5. Find a function predicting insurance cost based on other factors"
   ]
  },
  {
   "cell_type": "code",
   "execution_count": 3,
   "metadata": {},
   "outputs": [],
   "source": [
    "def feed_list_of_data(csv_file):\n",
    "    with open(csv_file) as insurance_data:\n",
    "        insurance_data_dict = csv.DictReader(insurance_data)\n",
    "        for individual in insurance_data_dict:\n",
    "            ages.append(float(individual['age']))\n",
    "            sexes.append(individual['sex'])\n",
    "            bmis.append(float(individual['bmi']))\n",
    "            children.append(float(individual['children']))\n",
    "            smokers.append(individual['smoker'])\n",
    "            regions.append(individual['region'])\n",
    "            charges.append(float(individual['charges']))"
   ]
  },
  {
   "cell_type": "code",
   "execution_count": 4,
   "metadata": {},
   "outputs": [],
   "source": [
    "feed_list_of_data('insurance.csv')"
   ]
  },
  {
   "cell_type": "markdown",
   "metadata": {},
   "source": [
    "## 3. Create a class with methods analyzing the dataset\n",
    "Create a class that performs statistical analysis on the dataset\n",
    "\n",
    "Through methods, the class will do the following analysis:\n",
    "\n"
   ]
  },
  {
   "cell_type": "code",
   "execution_count": 24,
   "metadata": {},
   "outputs": [],
   "source": [
    "class DataAnalysis:\n",
    "    def __init__(self, ages, sexes, bmis, children, smokers, regions, charges):\n",
    "        self.ages = ages\n",
    "        self.sexes = sexes\n",
    "        self.bmis = bmis\n",
    "        self.children = children\n",
    "        self.smokers = smokers\n",
    "        self.regions = regions\n",
    "        self.charges = charges\n",
    "        \n",
    "    def get_average(self, variable_list):\n",
    "        variable_list_sum = 0\n",
    "        for observation in variable_list:\n",
    "            variable_list_sum += observation\n",
    "        return variable_list_sum / len(variable_list)\n",
    "    \n",
    "    def get_standard_deviation(self, variable_list):\n",
    "        average = self.get_average(variable_list)\n",
    "        sum_of_squared_diff = 0\n",
    "        for observation in variable_list:\n",
    "            diff = observation - average\n",
    "            sum_of_squared_diff += (diff ** 2)\n",
    "        return (sum_of_squared_diff / (len(variable_list) - 1)) ** 0.5\n",
    "    \n",
    "    def get_median(self, variable_list):\n",
    "        variable_list.sort()\n",
    "        if len(variable_list) % 2 == 0:\n",
    "            return (variable_list[len(variable_list) // 2 - 1] + variable_list[len(variable_list) // 2]) / 2\n",
    "        else:\n",
    "            return observation_list[len(observation_list) // 2]\n",
    "\n",
    "    def get_first_quartile(self, variable_list):\n",
    "        variable_list.sort()\n",
    "        if len(variable_list) % 4 == 0:\n",
    "            return (variable_list[len(variable_list) // 4 - 1] + variable_list[len(variable_list) // 4]) / 2\n",
    "        else:\n",
    "            return variable_list[len(variable_list) // 4]\n",
    "        \n",
    "    def get_third_quartile(self, variable_list):\n",
    "        variable_list.sort()\n",
    "        if len(variable_list) % 4 == 0:\n",
    "            return (variable_list[3 * len(variable_list) // 4 - 1] + variable_list[3 * len(variable_list) // 4]) / 2\n",
    "        else:\n",
    "            return variable_list[3 * len(variable_list) // 4]\n",
    "        \n",
    "    def get_interquartile_range(self, variable_list):\n",
    "        q1 = self.get_first_quartile(variable_list)\n",
    "        q3 = self.get_third_quartile(variable_list)\n",
    "        return q3 - q1\n",
    "    \n",
    "    def distribution_analysis(self, variable_list):\n",
    "        print(f'| MINIMUM = {round(float(min(variable_list)),1)} | Q1 = {round(self.get_first_quartile(variable_list),1)} | MEDIAN = {round(self.get_median(variable_list),1)} | Q3 = {round(self.get_third_quartile(variable_list),1)} | MAXIMUM = {round(float(max(variable_list)),1)} |')\n",
    "        print(f'| Average = {round(self.get_average(variable_list), 1)} | Standard Deviation = {round(self.get_standard_deviation(variable_list), 1)} | Interquartile Range = {round(self.get_interquartile_range(variable_list), 1)} |')\n",
    "        \n",
    "    def sex_frequency_table(self):\n",
    "        print(' ----------------------------------------------')\n",
    "        print('| SEX    | FREQUENCY | PROPORTION | PERCENTAGE |')\n",
    "        print(' ----------------------------------------------')\n",
    "        print(f'| Male   |    {self.sexes.count(\"male\")}    |    {round(self.sexes.count(\"male\")/len(self.sexes), 2)}    |     {round(self.sexes.count(\"male\")/len(self.sexes)*100)}%    |')\n",
    "        print(' ----------------------------------------------')\n",
    "        print(f'| Female |    {self.sexes.count(\"female\")}    |    {round(self.sexes.count(\"female\")/len(self.sexes), 2)}    |     {round(self.sexes.count(\"female\")/len(self.sexes)*100)}%    |')\n",
    "        print(' ----------------------------------------------')\n",
    "        print(f'| TOTAL  |    {len(self.sexes)}   |    1       |     100%   |')\n",
    "        print(' ----------------------------------------------')\n",
    "    \n",
    "    def smoking_frequency_table(self):\n",
    "        print(' -----------------------------------------------')\n",
    "        print(f'| SMOKING | FREQUENCY | PROPORTION | PERCENTAGE |')\n",
    "        print(' -----------------------------------------------')\n",
    "        print(f'| yes     |    {self.smokers.count(\"yes\")}    |     {round(self.smokers.count(\"yes\")/len(self.smokers), 2)}    |     {round(self.smokers.count(\"yes\")/len(self.smokers)*100)}%    |')\n",
    "        print(' -----------------------------------------------')\n",
    "        print(f'| no      |    {self.smokers.count(\"no\")}   |     {round(self.smokers.count(\"no\")/len(self.smokers), 2)}    |     {round(self.smokers.count(\"no\")/len(self.smokers)*100)}%    |')\n",
    "        print(' -----------------------------------------------')\n",
    "        print(f'| TOTAL   |    {len(self.smokers)}   |     1      |     100%   |')\n",
    "        print(' -----------------------------------------------')\n",
    "        \n",
    "    def regions_frequency_table(self):\n",
    "        print(' -------------------------------------------------')\n",
    "        print('| REGION    | FREQUENCY | PROPORTION | PERCENTAGE |')\n",
    "        print(' -------------------------------------------------')\n",
    "        print(f'| northeast |    {self.regions.count(\"northeast\")}    |    {round(self.regions.count(\"northeast\")/len(self.regions), 2)}    |     {round(self.regions.count(\"northeast\")/len(self.regions)*100)}%    |')\n",
    "        print(' -------------------------------------------------')\n",
    "        print(f'| northwest |    {self.regions.count(\"northwest\")}    |    {round(self.regions.count(\"northwest\")/len(self.regions), 2)}    |     {round(self.regions.count(\"northwest\")/len(self.regions)*100)}%    |')\n",
    "        print(' -------------------------------------------------')\n",
    "        print(f'| southeast |    {self.regions.count(\"southeast\")}    |    {round(self.regions.count(\"southeast\")/len(self.regions), 2)}    |     {round(self.regions.count(\"southeast\")/len(self.regions)*100)}%    |')\n",
    "        print(' -------------------------------------------------')\n",
    "        print(f'| southwest |    {self.regions.count(\"southwest\")}    |    {round(self.regions.count(\"southwest\")/len(self.regions), 2)}    |     {round(self.regions.count(\"southwest\")/len(self.regions)*100)}%    |')\n",
    "        print(' -------------------------------------------------')\n",
    "        print(f'| TOTAL     |    {len(self.regions)}   |    1       |     100%   |')\n",
    "        print(' -------------------------------------------------')"
   ]
  },
  {
   "cell_type": "markdown",
   "metadata": {},
   "source": [
    "## 4. Instantiate the data object\n",
    "Create an object using the class just created"
   ]
  },
  {
   "cell_type": "code",
   "execution_count": 25,
   "metadata": {},
   "outputs": [],
   "source": [
    "data_insurance = DataAnalysis(ages, sexes, bmis, children, smokers, regions, charges)"
   ]
  },
  {
   "cell_type": "markdown",
   "metadata": {},
   "source": [
    "## 5. Describe the distribution of numeric variables\n",
    "By using the distribution_analysis method, describe the distribution of the following numeric variable:\n",
    "- age\n",
    "- bmi\n",
    "- children\n",
    "- insurance charge"
   ]
  },
  {
   "cell_type": "code",
   "execution_count": 26,
   "metadata": {},
   "outputs": [
    {
     "name": "stdout",
     "output_type": "stream",
     "text": [
      "| MINIMUM = 18.0 | Q1 = 27.0 | MEDIAN = 39.0 | Q3 = 51.0 | MAXIMUM = 64.0 |\n",
      "| Average = 39.2 | Standard Deviation = 14.0 | Interquartile Range = 24.0 |\n"
     ]
    }
   ],
   "source": [
    "data_insurance.distribution_analysis(data_insurance.ages)"
   ]
  },
  {
   "cell_type": "code",
   "execution_count": 27,
   "metadata": {},
   "outputs": [
    {
     "name": "stdout",
     "output_type": "stream",
     "text": [
      "| MINIMUM = 16.0 | Q1 = 26.3 | MEDIAN = 30.4 | Q3 = 34.7 | MAXIMUM = 53.1 |\n",
      "| Average = 30.7 | Standard Deviation = 6.1 | Interquartile Range = 8.4 |\n"
     ]
    }
   ],
   "source": [
    "data_insurance.distribution_analysis(data_insurance.bmis)"
   ]
  },
  {
   "cell_type": "code",
   "execution_count": 28,
   "metadata": {},
   "outputs": [
    {
     "name": "stdout",
     "output_type": "stream",
     "text": [
      "| MINIMUM = 0.0 | Q1 = 0.0 | MEDIAN = 1.0 | Q3 = 2.0 | MAXIMUM = 5.0 |\n",
      "| Average = 1.1 | Standard Deviation = 1.2 | Interquartile Range = 2.0 |\n"
     ]
    }
   ],
   "source": [
    "data_insurance.distribution_analysis(data_insurance.children)"
   ]
  },
  {
   "cell_type": "code",
   "execution_count": 29,
   "metadata": {},
   "outputs": [
    {
     "name": "stdout",
     "output_type": "stream",
     "text": [
      "| MINIMUM = 1121.9 | Q1 = 4738.3 | MEDIAN = 9382.0 | Q3 = 16657.7 | MAXIMUM = 63770.4 |\n",
      "| Average = 13270.4 | Standard Deviation = 12110.0 | Interquartile Range = 11919.4 |\n"
     ]
    }
   ],
   "source": [
    "data_insurance.distribution_analysis(data_insurance.charges)"
   ]
  },
  {
   "cell_type": "markdown",
   "metadata": {},
   "source": [
    "## 6. Build the frequency table of categorical variables\n",
    "By using the different frequency_table() method, build the frequency table of the following categorical variables:\n",
    "- sex\n",
    "- smoking\n",
    "- region"
   ]
  },
  {
   "cell_type": "code",
   "execution_count": 30,
   "metadata": {
    "scrolled": true
   },
   "outputs": [
    {
     "name": "stdout",
     "output_type": "stream",
     "text": [
      " ----------------------------------------------\n",
      "| SEX    | FREQUENCY | PROPORTION | PERCENTAGE |\n",
      " ----------------------------------------------\n",
      "| Male   |    676    |    0.51    |     51%    |\n",
      " ----------------------------------------------\n",
      "| Female |    662    |    0.49    |     49%    |\n",
      " ----------------------------------------------\n",
      "| TOTAL  |    1338   |    1       |     100%   |\n",
      " ----------------------------------------------\n"
     ]
    }
   ],
   "source": [
    "data_insurance.sex_frequency_table()"
   ]
  },
  {
   "cell_type": "code",
   "execution_count": 31,
   "metadata": {},
   "outputs": [
    {
     "name": "stdout",
     "output_type": "stream",
     "text": [
      " -----------------------------------------------\n",
      "| SMOKING | FREQUENCY | PROPORTION | PERCENTAGE |\n",
      " -----------------------------------------------\n",
      "| yes     |    274    |     0.2    |     20%    |\n",
      " -----------------------------------------------\n",
      "| no      |    1064   |     0.8    |     80%    |\n",
      " -----------------------------------------------\n",
      "| TOTAL   |    1338   |     1      |     100%   |\n",
      " -----------------------------------------------\n"
     ]
    }
   ],
   "source": [
    "data_insurance.smoking_frequency_table()"
   ]
  },
  {
   "cell_type": "code",
   "execution_count": 32,
   "metadata": {},
   "outputs": [
    {
     "name": "stdout",
     "output_type": "stream",
     "text": [
      " -------------------------------------------------\n",
      "| REGION    | FREQUENCY | PROPORTION | PERCENTAGE |\n",
      " -------------------------------------------------\n",
      "| northeast |    324    |    0.24    |     24%    |\n",
      " -------------------------------------------------\n",
      "| northwest |    325    |    0.24    |     24%    |\n",
      " -------------------------------------------------\n",
      "| southeast |    364    |    0.27    |     27%    |\n",
      " -------------------------------------------------\n",
      "| southwest |    325    |    0.24    |     24%    |\n",
      " -------------------------------------------------\n",
      "| TOTAL     |    1338   |    1       |     100%   |\n",
      " -------------------------------------------------\n"
     ]
    }
   ],
   "source": [
    "data_insurance.regions_frequency_table()"
   ]
  }
 ],
 "metadata": {
  "kernelspec": {
   "display_name": "Python 3 (ipykernel)",
   "language": "python",
   "name": "python3"
  },
  "language_info": {
   "codemirror_mode": {
    "name": "ipython",
    "version": 3
   },
   "file_extension": ".py",
   "mimetype": "text/x-python",
   "name": "python",
   "nbconvert_exporter": "python",
   "pygments_lexer": "ipython3",
   "version": "3.9.12"
  }
 },
 "nbformat": 4,
 "nbformat_minor": 4
}
